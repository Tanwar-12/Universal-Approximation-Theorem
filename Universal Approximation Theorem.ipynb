{
 "cells": [
  {
   "cell_type": "markdown",
   "id": "0785f5e1-b249-4e88-b105-33a314163456",
   "metadata": {},
   "source": [
    "# **Universal Approximation Theorem**"
   ]
  },
  {
   "cell_type": "markdown",
   "id": "16e90335-dc21-406a-ba66-7d186fc316aa",
   "metadata": {},
   "source": [
    "\n",
    "The Universal Approximation Theorem implies that neural networks can approximate any continuous function given enough neurons and layers.\n",
    "\n",
    "This is useful in scenarios like regression tasks where the goal is to predict a continuous output."
   ]
  },
  {
   "cell_type": "markdown",
   "id": "2a1bc6ff-7260-4c51-849a-b0dcaca72452",
   "metadata": {},
   "source": [
    "### **Use Case: Approximating Complex Functions**"
   ]
  },
  {
   "cell_type": "markdown",
   "id": "956ae1cc-64c1-42ab-a50b-b7206ab964e8",
   "metadata": {},
   "source": [
    "## **Practical Code Example**"
   ]
  },
  {
   "cell_type": "markdown",
   "id": "f6397088-49dd-4363-ae81-c637290f70af",
   "metadata": {},
   "source": [
    "**IMPORTING THE LIBRARIES**"
   ]
  },
  {
   "cell_type": "code",
   "execution_count": null,
   "id": "849a93f6-07b9-4896-a0a6-222a60535b89",
   "metadata": {},
   "outputs": [],
   "source": [
    "import numpy as np\n",
    "import tensorflow as tf\n",
    "from tensorflow.keras.models import Sequential\n",
    "from tensorflow.keras.layers import Dense\n",
    "import matplotlib.pyplot as plt\n"
   ]
  },
  {
   "cell_type": "code",
   "execution_count": null,
   "id": "667e8397-8a41-4311-9b70-80f64322c152",
   "metadata": {},
   "outputs": [],
   "source": [
    "\n",
    "# Generate synthetic data\n",
    "x = np.linspace(-2 * np.pi, 2 * np.pi, 1000)\n",
    "y = np.sin(x)\n",
    "\n",
    "# Define the neural network model\n",
    "model = Sequential([\n",
    "    Dense(50, activation='relu', input_shape=(1,)),\n",
    "    Dense(50, activation='relu'),\n",
    "    Dense(1)\n",
    "])\n",
    "\n"
   ]
  },
  {
   "cell_type": "code",
   "execution_count": null,
   "id": "c88b03aa-9850-48c1-8e9a-3f6eac512824",
   "metadata": {},
   "outputs": [],
   "source": [
    "\n",
    "# Compile the model\n",
    "model.compile(optimizer='adam', loss='mse')\n",
    "\n",
    "# Train the model\n",
    "model.fit(x, y, epochs=100, batch_size=32, verbose=0)\n",
    "\n",
    "# Predict the output\n",
    "y_pred = model.predict(x)\n",
    "\n",
    "# Plot the results\n",
    "plt.plot(x, y, label='True Function')\n",
    "plt.plot(x, y_pred, label='Neural Network Approximation')\n",
    "plt.legend()\n",
    "plt.show()\n"
   ]
  }
 ],
 "metadata": {
  "kernelspec": {
   "display_name": "Python 3 (ipykernel)",
   "language": "python",
   "name": "python3"
  },
  "language_info": {
   "codemirror_mode": {
    "name": "ipython",
    "version": 3
   },
   "file_extension": ".py",
   "mimetype": "text/x-python",
   "name": "python",
   "nbconvert_exporter": "python",
   "pygments_lexer": "ipython3",
   "version": "3.11.7"
  }
 },
 "nbformat": 4,
 "nbformat_minor": 5
}
